{
 "cells": [
  {
   "cell_type": "code",
   "execution_count": 365,
   "metadata": {},
   "outputs": [
    {
     "name": "stdout",
     "output_type": "stream",
     "text": [
      "The autoreload extension is already loaded. To reload it, use:\n",
      "  %reload_ext autoreload\n"
     ]
    }
   ],
   "source": [
    "# First we load autoload, so we don't need to keep restarting the kernel to get\n",
    "# new definitions. This ensures that functions are reloaded from the file whenever\n",
    "# the file is changed.\n",
    "%load_ext autoreload\n",
    "%autoreload 2\n",
    "# import package\n",
    "import lark\n",
    "from helpers import *\n",
    "# from typechecker import *\n",
    "from type import *\n",
    "from PEjames import *\n",
    "from flatten import *\n",
    "import transform"
   ]
  },
  {
   "cell_type": "markdown",
   "metadata": {},
   "source": [
    "- Initialize parser\n",
    "- Can choose different mode by pass list or argument in start"
   ]
  },
  {
   "cell_type": "code",
   "execution_count": 366,
   "metadata": {},
   "outputs": [],
   "source": [
    "parser = Lark.open(\"CQ.lark\", start=[\"program\",\"procedure\",\"parameter_declaration\",\"statement\",\"declaration\",\"exp\"])"
   ]
  },
  {
   "cell_type": "markdown",
   "metadata": {},
   "source": [
    "## Testing datasets"
   ]
  },
  {
   "cell_type": "code",
   "execution_count": 367,
   "metadata": {},
   "outputs": [],
   "source": [
    "statement = \"1-1\""
   ]
  },
  {
   "cell_type": "code",
   "execution_count": 368,
   "metadata": {},
   "outputs": [],
   "source": [
    "program = read_file('../CQ-programs/initialize.cq')\n",
    "program2 = read_file('../CQ-programs/qft2.cq')"
   ]
  },
  {
   "cell_type": "markdown",
   "metadata": {},
   "source": [
    "### Producing syntatic tree by passing data into parser\n",
    "- select mode by passing argument  to start\n",
    "- option could be [\"program\",\"procedure\",\"parameter_declaration\",\"statement\",\"declaration\"]"
   ]
  },
  {
   "cell_type": "code",
   "execution_count": 369,
   "metadata": {},
   "outputs": [
    {
     "name": "stdout",
     "output_type": "stream",
     "text": [
      "Tree(Token('RULE', 'exp'), [Token(Token('TERMINAL', 'INT'), '1'), Token(Token('TERMINAL', 'AS'), '-'), Token(Token('TERMINAL', 'INT'), '1')])\n"
     ]
    }
   ],
   "source": [
    "ast = parser.parse(statement, start=\"exp\")\n",
    "print(ast)"
   ]
  },
  {
   "cell_type": "code",
   "execution_count": 370,
   "metadata": {},
   "outputs": [
    {
     "data": {
      "text/plain": [
       "'int'"
      ]
     },
     "execution_count": 370,
     "metadata": {},
     "output_type": "execute_result"
    }
   ],
   "source": [
    "type_exp(ast, None)"
   ]
  },
  {
   "cell_type": "code",
   "execution_count": 371,
   "metadata": {},
   "outputs": [
    {
     "name": "stdout",
     "output_type": "stream",
     "text": [
      "Procedure initialize_2qubit is well-typed\n"
     ]
    },
    {
     "data": {
      "text/plain": [
       "True"
      ]
     },
     "execution_count": 371,
     "metadata": {},
     "output_type": "execute_result"
    }
   ],
   "source": [
    "ast = parser.parse(program, start='program')\n",
    "type_env0=[{},{'a': \"float[4]\", 'b':'int[4]', \"i\": \"int\"}]\n",
    "type_program(ast)"
   ]
  },
  {
   "cell_type": "markdown",
   "metadata": {},
   "source": [
    "### Test script for the whole process\n",
    "- parse programe to get AST\n",
    "- Type checking AST\n",
    "- running partial evaluation transform program\n",
    "- running flattern\n",
    "- compile programe to specified gate set\n",
    "- compile final programe to qiskit and running"
   ]
  },
  {
   "cell_type": "code",
   "execution_count": 372,
   "metadata": {},
   "outputs": [
    {
     "name": "stdout",
     "output_type": "stream",
     "text": [
      "Procedure qft is well-typed\n",
      "#####\n",
      "Rz\n",
      "3.141592653589793\n",
      "#####\n",
      "Rz\n",
      "1.5707963267948966\n",
      "#####\n",
      "Rz\n",
      "0.7853981633974483\n",
      "#####\n",
      "Rz\n",
      "3.141592653589793\n",
      "#####\n",
      "Rz\n",
      "1.5707963267948966\n",
      "#####\n",
      "Rz\n",
      "3.141592653589793\n",
      "qft(qbit q[4]){\n",
      "  H q[0] ;\n",
      "  H q[1] ;\n",
      "  Rz(3.141592653589793) q[0] if q[1]) ;\n",
      "  Rz(1.5707963267948966) q[0] if q[2]) ;\n",
      "  Rz(0.7853981633974483) q[0] if q[3]) ;\n",
      "  H q[1] ;\n",
      "  H q[2] ;\n",
      "  Rz(3.141592653589793) q[1] if q[2]) ;\n",
      "  Rz(1.5707963267948966) q[1] if q[3]) ;\n",
      "  H q[2] ;\n",
      "  H q[3] ;\n",
      "  Rz(3.141592653589793) q[2] if q[3]) ;\n",
      "}\n",
      "\n"
     ]
    }
   ],
   "source": [
    "ast = parser.parse(program2, start='program')\n",
    "type_program(ast)\n",
    "static_input = {'a': np.sqrt([1/2.,1/4.,1/6., 1/12.]),'d':4}\n",
    "value_env0=[static_input]\n",
    "pe_program = PE_program(ast, static_input)\n",
    "f_program = flatten_program(pe_program)\n",
    "print(transform.showcq_program(f_program))\n"
   ]
  },
  {
   "cell_type": "code",
   "execution_count": null,
   "metadata": {},
   "outputs": [],
   "source": []
  }
 ],
 "metadata": {
  "kernelspec": {
   "display_name": "quantum_compiler",
   "language": "python",
   "name": "python3"
  },
  "language_info": {
   "codemirror_mode": {
    "name": "ipython",
    "version": 3
   },
   "file_extension": ".py",
   "mimetype": "text/x-python",
   "name": "python",
   "nbconvert_exporter": "python",
   "pygments_lexer": "ipython3",
   "version": "3.11.0"
  }
 },
 "nbformat": 4,
 "nbformat_minor": 2
}
